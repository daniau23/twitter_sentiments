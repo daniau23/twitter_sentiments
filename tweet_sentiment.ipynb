{
 "cells": [
  {
   "cell_type": "code",
   "execution_count": null,
   "metadata": {},
   "outputs": [],
   "source": [
    "# removing the new line characters\n",
    "with open('auth_keys.txt') as f:\n",
    "    lines = [line.rstrip() for line in f]"
   ]
  },
  {
   "cell_type": "code",
   "execution_count": null,
   "metadata": {},
   "outputs": [],
   "source": [
    "Consumer_Key = lines[0]\n",
    "Consumer_Secret = lines[1]\n",
    "Bearer_Token = lines[2]\n",
    "Access_Token = lines[3]\n",
    "Access_Secret = lines[4]"
   ]
  },
  {
   "cell_type": "code",
   "execution_count": null,
   "metadata": {},
   "outputs": [],
   "source": [
    "import tweepy"
   ]
  },
  {
   "cell_type": "markdown",
   "metadata": {},
   "source": [
    "## **Tweepy - API Class (Twitter API v1.1)**"
   ]
  },
  {
   "cell_type": "markdown",
   "metadata": {},
   "source": [
    "### **Authentication**"
   ]
  },
  {
   "cell_type": "code",
   "execution_count": null,
   "metadata": {},
   "outputs": [],
   "source": [
    "# Authenticate with Twitter OAuth 1.0a User Context\n",
    "auth = tweepy.OAuth1UserHandler(\n",
    "    Consumer_Key,Consumer_Secret,Access_Token,Access_Secret\n",
    ")\n",
    "api = tweepy.API(auth)\n",
    "\n",
    "print(api.verify_credentials().screen_name) # Verified"
   ]
  },
  {
   "cell_type": "markdown",
   "metadata": {},
   "source": [
    "### **Hello Tweepy**"
   ]
  },
  {
   "cell_type": "code",
   "execution_count": null,
   "metadata": {},
   "outputs": [],
   "source": [
    "public_tweets = api.home_timeline()\n",
    "for tweet in public_tweets:\n",
    "    print(tweet.text)"
   ]
  },
  {
   "cell_type": "markdown",
   "metadata": {},
   "source": [
    "### **Get Tweet timelines**"
   ]
  },
  {
   "cell_type": "code",
   "execution_count": null,
   "metadata": {},
   "outputs": [],
   "source": [
    "# public_tweets = api.home_timeline()\n",
    "# for tweet in public_tweets:\n",
    "#     print(tweet.text) \n",
    "# Same ouput as te previous cell"
   ]
  },
  {
   "cell_type": "code",
   "execution_count": null,
   "metadata": {},
   "outputs": [],
   "source": [
    "api.update_status(\"This is Tweepy tweet\") # it works"
   ]
  },
  {
   "cell_type": "code",
   "execution_count": null,
   "metadata": {},
   "outputs": [],
   "source": [
    "mentions_tweets = api.mentions_timeline()\n",
    "for tweet in mentions_tweets:\n",
    "    print(tweet.text)\n",
    "# Prints out tweets I have a mention in."
   ]
  },
  {
   "cell_type": "code",
   "execution_count": null,
   "metadata": {},
   "outputs": [],
   "source": [
    "user_timeline_tweets = api.user_timeline(count=1) # count=2\n",
    "for tweet in user_timeline_tweets:\n",
    "    print(tweet.created_at)\n",
    "    print(tweet.id_str)\n",
    "    print(tweet.text,'\\n')\n",
    "# Prints tweets from my timeline profile"
   ]
  },
  {
   "cell_type": "markdown",
   "metadata": {},
   "source": [
    "### **Post, retrieve, and engage with Tweets**"
   ]
  },
  {
   "cell_type": "code",
   "execution_count": null,
   "metadata": {},
   "outputs": [],
   "source": [
    "# get_favorites = api.get_favorites(screen_name='misraturp')\n",
    "get_favorites = api.get_favorites()\n",
    "for tweet in get_favorites:\n",
    "    print(tweet.created_at)\n",
    "    print(tweet.text,\"\\n\")"
   ]
  },
  {
   "cell_type": "code",
   "execution_count": null,
   "metadata": {},
   "outputs": [],
   "source": [
    "# lookup_statuses = api.lookup_statuses()\n",
    "# for tweet in lookup_statuses:\n",
    "#     print(tweet.text)"
   ]
  },
  {
   "cell_type": "code",
   "execution_count": null,
   "metadata": {},
   "outputs": [],
   "source": [
    "# get_oembed = api.get_oembed()\n",
    "# for tweet in get_oembed:\n",
    "#     print(tweet.text)"
   ]
  },
  {
   "cell_type": "code",
   "execution_count": null,
   "metadata": {},
   "outputs": [],
   "source": [
    "# get_retweeter_ids = api.get_retweeter_ids()\n",
    "# for tweet in get_retweeter_ids:\n",
    "#     print(tweet.text)"
   ]
  },
  {
   "cell_type": "code",
   "execution_count": null,
   "metadata": {},
   "outputs": [],
   "source": [
    "get_retweets = api.get_retweets(id=1574409456313454592) # AssemblyAI\n",
    "for tweet in get_retweets:\n",
    "    print(tweet.created_at)\n",
    "    print(tweet.text,\"\\n\")"
   ]
  },
  {
   "cell_type": "code",
   "execution_count": null,
   "metadata": {},
   "outputs": [],
   "source": [
    "get_retweets_of_me = api.get_retweets_of_me()\n",
    "for tweet in get_retweets_of_me:\n",
    "    print(tweet.created_at)\n",
    "    print(tweet.text,'\\n') \n",
    "\n",
    "# It also gets that of RT quotes"
   ]
  },
  {
   "cell_type": "code",
   "execution_count": null,
   "metadata": {},
   "outputs": [],
   "source": [
    "api.get_status(id=1574409456313454592).text # AssemblyAI\n",
    "api.get_status(id=1576614125504897024).text # Danny_MLE"
   ]
  },
  {
   "cell_type": "code",
   "execution_count": null,
   "metadata": {},
   "outputs": [],
   "source": [
    "to_be_deleted_tweet = api.update_status('Bad Tweet from Tweepy')"
   ]
  },
  {
   "cell_type": "code",
   "execution_count": null,
   "metadata": {},
   "outputs": [],
   "source": [
    "user_timeline_tweets_2 = api.user_timeline(count=2) # count=2\n",
    "for tweet in user_timeline_tweets_2:\n",
    "    print(tweet.created_at)\n",
    "    print(tweet.id_str)\n",
    "    # print(tweet.id) # Same as id_str\n",
    "    print(tweet.text,'\\n')"
   ]
  },
  {
   "cell_type": "code",
   "execution_count": null,
   "metadata": {},
   "outputs": [],
   "source": [
    "# api.destroy_status(to_be_deleted_tweet.id_str) # Destroying/deleting a tweet\n",
    "# api.destroy_status(id=1576614125504897024) # Destroying/deleting a tweet\n",
    "\n",
    "# OR\n",
    "destroy_status = user_timeline_tweets_2\n",
    "for tweet in destroy_status:\n",
    "    api.destroy_status(tweet.id)"
   ]
  },
  {
   "cell_type": "markdown",
   "metadata": {},
   "source": [
    "### **Search Tweets**"
   ]
  },
  {
   "cell_type": "code",
   "execution_count": null,
   "metadata": {},
   "outputs": [],
   "source": [
    "# https://developer.twitter.com/en/docs/twitter-api/tweets/search/migrate\n",
    "# https://developer.twitter.com/en/docs/twitter-api/v1/tweets/search/guides/standard-operators\n",
    "# https://developer.twitter.com/en/docs/twitter-api/v1/tweets/search/api-reference/get-search-tweets\n",
    "# https://medium.com/@robguilarr/making-queries-to-twitter-api-on-tweepy-66afeb7184a4\n",
    "# https://www.sahilfruitwala.com/guide-to-extract-tweets-using-tweepy#how-to-search-tweets-containing-specific-user\n",
    "\n",
    "query = '#china -filter:retweets lang:en'\n",
    "query2 = '#@NASA since:2022-09-20 until:2022-09-23 lang:en -filter:retweets'\n",
    "query3= '#jcole -filter:retweets until:2022-09-23 lang:en'\n",
    "query4= '#jayz since:2022-09-22 until:2022-09-23 lang:en -filter:retweets'\n",
    "query5= '#中国 #国庆节快乐 lang:zh-cn since:2022-09-30 -filter:retweets'\n",
    "query6= '#ChinaNationalDay since:2022-09-30 -filter:retweets'\n",
    "# \n",
    "count = 20\n",
    "date ='2022-09-26'\n",
    "date2 ='2022-10-02'\n",
    "# tweets = api.search_tweets(q=query,count=count,until=date)\n",
    "# tweets = api.search_tweets(q=query2,count=count)\n",
    "# tweets = api.search_tweets(q=query3,count=count)\n",
    "# tweets = api.search_tweets(q=query4,count=count,until=date)\n",
    "# tweets = api.search_tweets(q=query5,count=count,until=date2,)\n",
    "tweets = api.search_tweets(q=query6,count=count,until=date2, lang='zh-cn')\n",
    "for tweet in tweets:\n",
    "    print(tweet.created_at)\n",
    "    print(tweet.text)\n",
    "    print(tweet.lang)\n",
    "    print(tweet.favorite_count)\n",
    "    print('\\n')"
   ]
  },
  {
   "cell_type": "code",
   "execution_count": null,
   "metadata": {},
   "outputs": [],
   "source": [
    "# https://medium.com/@robguilarr/extracting-users-data-from-twitter-api-using-tweepy-303b151662e4\n",
    "import json\n",
    "def jsonify_tweepy(tweepy_object):\n",
    "    # Write: Transform the Tweepy's json object and transform\n",
    "    # into a dictionary\n",
    "    json_str = json.dumps(tweepy_object._json, indent =2)\n",
    "    return json.loads(json_str)"
   ]
  },
  {
   "cell_type": "markdown",
   "metadata": {},
   "source": [
    "**How to get data from an specific user?**"
   ]
  },
  {
   "cell_type": "code",
   "execution_count": null,
   "metadata": {},
   "outputs": [],
   "source": [
    "# Get user data \n",
    "fp_data = api.get_user(screen_name='ForkParker')\n",
    "# print(jsonify_tweepy(fp_data))"
   ]
  },
  {
   "cell_type": "code",
   "execution_count": null,
   "metadata": {},
   "outputs": [],
   "source": [
    "# Get user followers\n",
    "fp_followers = api.get_followers(screen_name='ForkParker')\n",
    "print(len(fp_followers))"
   ]
  },
  {
   "cell_type": "code",
   "execution_count": null,
   "metadata": {},
   "outputs": [],
   "source": [
    "# https://docs.tweepy.org/en/stable/v1_pagination.html?highlight=cursor#tweepy.Cursor\n",
    "\n",
    "# How to get user’s followees data?\n",
    "fp_followers = tweepy.Cursor(method=api.get_followers,screen_name='ForkParker',).items(5)\n",
    "\n",
    "for user in fp_followers:\n",
    "    print(jsonify_tweepy(user)['screen_name'])"
   ]
  },
  {
   "cell_type": "code",
   "execution_count": null,
   "metadata": {},
   "outputs": [],
   "source": [
    "fp_followers\n",
    "# output: <tweepy.cursor.CursorIterator at 0x184515a7940>"
   ]
  },
  {
   "cell_type": "code",
   "execution_count": null,
   "metadata": {},
   "outputs": [],
   "source": [
    "fp_cursor= tweepy.Cursor(method=api.get_friends,screen_name='ForkParker',).items(5)\n",
    "\n",
    "fp_friends = [jsonify_tweepy(i)['screen_name'] for i in fp_cursor]\n",
    "print(fp_friends)"
   ]
  },
  {
   "cell_type": "markdown",
   "metadata": {},
   "source": [
    "**How to get user’s timeline?**\n",
    "\n"
   ]
  },
  {
   "cell_type": "code",
   "execution_count": null,
   "metadata": {},
   "outputs": [],
   "source": [
    "for tweet in tweepy.Cursor(method=api.user_timeline,screen_name='ForkParker'\n",
    "                                ,tweet_mode='extended').items(2):\n",
    "    print(jsonify_tweepy(tweet)['entities']['hashtags'])"
   ]
  },
  {
   "cell_type": "markdown",
   "metadata": {},
   "source": [
    "### **Accounts and users**"
   ]
  },
  {
   "cell_type": "markdown",
   "metadata": {},
   "source": [
    "### **Follow, search, and get users**"
   ]
  },
  {
   "cell_type": "code",
   "execution_count": null,
   "metadata": {},
   "outputs": [],
   "source": [
    "# Follow\n",
    "api.create_friendship(screen_name='@YouTube')"
   ]
  },
  {
   "cell_type": "code",
   "execution_count": null,
   "metadata": {},
   "outputs": [],
   "source": [
    "# Unfollow\n",
    "api.destroy_friendship(screen_name='@YouTube')"
   ]
  },
  {
   "cell_type": "markdown",
   "metadata": {},
   "source": [
    "### **Manage account settings and profile**"
   ]
  },
  {
   "cell_type": "markdown",
   "metadata": {},
   "source": [
    "### **Mute, block, and report users**"
   ]
  },
  {
   "cell_type": "markdown",
   "metadata": {},
   "source": [
    "### **Direct Messages**"
   ]
  },
  {
   "cell_type": "markdown",
   "metadata": {},
   "source": [
    "### **Typing indicator and read receipts**"
   ]
  },
  {
   "cell_type": "markdown",
   "metadata": {},
   "source": [
    "### **Media**"
   ]
  },
  {
   "cell_type": "markdown",
   "metadata": {},
   "source": [
    "### **Trends**"
   ]
  },
  {
   "cell_type": "markdown",
   "metadata": {},
   "source": [
    "### **Geo**"
   ]
  },
  {
   "cell_type": "markdown",
   "metadata": {},
   "source": [
    "## **Tweepy - Client Class (Twitter API v2.0)**"
   ]
  },
  {
   "cell_type": "markdown",
   "metadata": {},
   "source": [
    "### **Authentication**"
   ]
  },
  {
   "cell_type": "code",
   "execution_count": null,
   "metadata": {},
   "outputs": [],
   "source": [
    "client = tweepy.Client(Bearer_Token)"
   ]
  },
  {
   "cell_type": "markdown",
   "metadata": {},
   "source": [
    "### **Get recent public tweets on keywords**"
   ]
  },
  {
   "cell_type": "code",
   "execution_count": null,
   "metadata": {},
   "outputs": [],
   "source": [
    "# Pull tweets from twitter\n",
    "# tweet_fields\n",
    "# https://developer.twitter.com/en/docs/twitter-api/data-dictionary/object-model/tweet\n",
    "\n",
    "query = '#elonmusk -is:retweet lang:en'\n",
    "# This is more dynamic\n",
    "tweets = client.search_recent_tweets(query=query, tweet_fields=['context_annotations', 'created_at','lang','source'], max_results=10)\n",
    "\n",
    "# Works but is limited\n",
    "# tweets2 = client.search_recent_tweets(query=query, max_results=10)\n",
    "\n",
    "# Get tweets that contain the hashtag #TypeKeywordHere\n",
    "# -is:retweet means I don't want retweets\n",
    "# lang:en is asking for the tweets to be in english"
   ]
  },
  {
   "cell_type": "code",
   "execution_count": null,
   "metadata": {},
   "outputs": [],
   "source": [
    "for tweet in tweets.data:\n",
    "    print('\\n**Tweet Text**\\n',tweet.text)\n",
    "    print(tweet.created_at)\n",
    "    print(tweet.lang)\n",
    "    print(tweet.id)\n",
    "    print(tweet.source)"
   ]
  },
  {
   "cell_type": "code",
   "execution_count": null,
   "metadata": {},
   "outputs": [],
   "source": [
    "# https://developer.twitter.com/en/docs/twitter-api/tweets/search/migrate\n",
    "# https://developer.twitter.com/en/docs/twitter-api/v1/tweets/search/guides/standard-operators\n",
    "# https://developer.twitter.com/en/docs/twitter-api/v1/tweets/search/api-reference/get-search-tweets\n",
    "# https://medium.com/@robguilarr/making-queries-to-twitter-api-on-tweepy-66afeb7184a4\n",
    "# https://www.sahilfruitwala.com/guide-to-extract-tweets-using-tweepy#how-to-search-tweets-containing-specific-user\n",
    "\n",
    "query = '#china -filter:retweets lang:en'\n",
    "query2 = '#@NASA since:2022-09-20 until:2022-09-23 lang:en -filter:retweets'\n",
    "query3= '#jcole -filter:retweets until:2022-09-23 lang:en'\n",
    "query4= '#jayz since:2022-09-22 until:2022-09-23 lang:en -filter:retweets'\n",
    "query5= '#中国 #国庆节快乐 lang:zh-cn since:2022-09-30 -filter:retweets'\n",
    "query6= '#中国 -is:retweet lang:en'\n",
    "# \n",
    "count = 10\n",
    "date ='2022-09-26'\n",
    "date2 ='2022-10-02'\n",
    "# tweets = client.search_all_tweets(query=query,max_results=count,end_time=date)\n",
    "# tweets = client.search_all_tweets(query=query,max_results=count,end_time=date)\n",
    "# tweets = client.search_all_tweets(query=query2,max_results=count)\n",
    "# tweets = client.search_all_tweets(query=query3,max_results=count)\n",
    "# tweets = client.search_all_tweets(query=query4,max_results=count,end_time=date)\n",
    "# tweets = client.search_all_tweets(query=query5,max_results=count,end_time=date2,)\n",
    "tweets = client.search_recent_tweets(query=query6,max_results=count,tweet_fields=['context_annotations', 'created_at','lang','source'])\n",
    "for tweet in tweets.data:\n",
    "    print(tweet.created_at)\n",
    "    print(tweet.text)\n",
    "    print(tweet.lang)\n",
    "    # print(tweet.favorite_count)\n",
    "    print('\\n')"
   ]
  }
 ],
 "metadata": {
  "kernelspec": {
   "display_name": "Python 3.8.13 (conda)",
   "language": "python",
   "name": "python3"
  },
  "language_info": {
   "codemirror_mode": {
    "name": "ipython",
    "version": 3
   },
   "file_extension": ".py",
   "mimetype": "text/x-python",
   "name": "python",
   "nbconvert_exporter": "python",
   "pygments_lexer": "ipython3",
   "version": "3.8.13"
  },
  "orig_nbformat": 4,
  "vscode": {
   "interpreter": {
    "hash": "0d3784fccdc90acbf957f8297e7e306d4c8b14c1a207bd5307d0795df9a8d77b"
   }
  }
 },
 "nbformat": 4,
 "nbformat_minor": 2
}
